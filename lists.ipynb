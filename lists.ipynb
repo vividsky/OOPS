{
 "metadata": {
  "language_info": {
   "codemirror_mode": {
    "name": "ipython",
    "version": 3
   },
   "file_extension": ".py",
   "mimetype": "text/x-python",
   "name": "python",
   "nbconvert_exporter": "python",
   "pygments_lexer": "ipython3",
   "version": "3.7.3-final"
  },
  "orig_nbformat": 2,
  "kernelspec": {
   "name": "python3",
   "display_name": "Python 3.7.3 32-bit",
   "metadata": {
    "interpreter": {
     "hash": "1f569f38f9ff0ccc2d6519de6d5565ac966e53582e7a68dd5bf488942db796b1"
    }
   }
  }
 },
 "nbformat": 4,
 "nbformat_minor": 2,
 "cells": [
  {
   "source": [
    "## Looping through Lists and List Comprehension\n"
   ],
   "cell_type": "markdown",
   "metadata": {}
  },
  {
   "source": [
    "number=[1,2,3,4]\n",
    "print(number[0])\n",
    "print(number[1])\n",
    "print(number[2])\n",
    "print(number[3])"
   ],
   "cell_type": "code",
   "metadata": {},
   "execution_count": 17,
   "outputs": [
    {
     "output_type": "stream",
     "name": "stdout",
     "text": [
      "1\n2\n3\n4\n"
     ]
    }
   ]
  },
  {
   "source": [
    "## loops on lists"
   ],
   "cell_type": "markdown",
   "metadata": {}
  },
  {
   "source": [
    "# using for loop: will print the elements one by one\n",
    "number=[1,2,3,4]\n",
    "for num in number:\n",
    "  print(num*2)"
   ],
   "cell_type": "code",
   "metadata": {},
   "execution_count": 18,
   "outputs": [
    {
     "output_type": "stream",
     "name": "stdout",
     "text": [
      "2\n4\n6\n8\n"
     ]
    }
   ]
  },
  {
   "cell_type": "code",
   "execution_count": 20,
   "metadata": {},
   "outputs": [
    {
     "output_type": "stream",
     "name": "stdout",
     "text": [
      "apple\nbanana\ncherry\napple\nbanana\ncherry\n"
     ]
    }
   ],
   "source": [
    "# using for loop through the index of the list\n",
    "thislist = [\"apple\", \"banana\", \"cherry\"]\n",
    "for i in range(len(thislist)):\n",
    "  print(thislist[i])\n",
    "for fruit in thislist:\n",
    "    print(fruit)  "
   ]
  },
  {
   "cell_type": "code",
   "execution_count": 19,
   "metadata": {},
   "outputs": [
    {
     "output_type": "stream",
     "name": "stdout",
     "text": [
      "2\n4\n6\n8\n"
     ]
    }
   ],
   "source": [
    "# using while loop: through index of the list\n",
    "number=[1,2,3,4]\n",
    "i=0\n",
    "while i < len(number):\n",
    "    print(number[i]*2)\n",
    "    i+=1            "
   ]
  },
  {
   "cell_type": "code",
   "execution_count": 21,
   "metadata": {},
   "outputs": [
    {
     "output_type": "stream",
     "name": "stdout",
     "text": [
      "apple\nbanana\ncherry\n"
     ]
    }
   ],
   "source": [
    "# using while loop\n",
    "thislist = [\"apple\", \"banana\", \"cherry\"]\n",
    "i = 0\n",
    "while i < len(thislist):\n",
    "  print(thislist[i])\n",
    "  i = i + 1"
   ]
  },
  {
   "cell_type": "code",
   "execution_count": 24,
   "metadata": {},
   "outputs": [
    {
     "output_type": "stream",
     "name": "stdout",
     "text": [
      "0 : OOP\nOOP : 0\n1 : DM\nDM : 1\n2 : CSA\nCSA : 2\n"
     ]
    }
   ],
   "source": [
    "# using while loop\n",
    "subjects = [\"OOP\", \"DM\", \"CSA\"]\n",
    "i = 0\n",
    "while i < len(subjects):\n",
    "  print(f'{i} : {subjects[i]}')\n",
    "  print('{1} : {0}'.format(i,subjects[i]))\n",
    "  i = i + 1"
   ]
  },
  {
   "source": [
    "## list comprehension"
   ],
   "cell_type": "markdown",
   "metadata": {}
  },
  {
   "source": [
    "# listComp=[ ___ for ___ in___ if___ ]\n",
    "# newlist = [expression for item in iterable if condition == True]"
   ],
   "cell_type": "code",
   "metadata": {},
   "execution_count": null,
   "outputs": []
  },
  {
   "cell_type": "code",
   "execution_count": 28,
   "metadata": {},
   "outputs": [
    {
     "output_type": "stream",
     "name": "stdout",
     "text": [
      "[2, 4, 6, 8]\n[0, 1, 8, 27, 64]\n"
     ]
    }
   ],
   "source": [
    "number=[1,2,3,4] \n",
    "ListComp=[2*x for x in number]\n",
    "print(ListComp)        \n",
    "listComp = [x**3 for x in range(10) if x < 5  ]\n",
    "print(listComp)"
   ]
  },
  {
   "cell_type": "code",
   "execution_count": 30,
   "metadata": {},
   "outputs": [
    {
     "output_type": "stream",
     "name": "stdout",
     "text": [
      "['apple'] ['Apple', 'Banana', 'Cherry', 'Kiwi', 'Mango']\n"
     ]
    }
   ],
   "source": [
    "# more examples of list comprehension:\n",
    "\n",
    "fruits = [\"apple\", \"banana\", \"cherry\", \"kiwi\", \"mango\"]\n",
    "newlist = [x for x in fruits if x.startswith('a')]\n",
    "newlist2 = [x.capitalize() for x in fruits]\n",
    "\n",
    "print(newlist, newlist2)"
   ]
  },
  {
   "cell_type": "code",
   "execution_count": 33,
   "metadata": {},
   "outputs": [
    {
     "output_type": "stream",
     "name": "stdout",
     "text": [
      "[0, 2, 4, 5, 6, 8]\n"
     ]
    }
   ],
   "source": [
    "num_list = [y for y in range(10) if y % 2 == 0 or y % 5 == 0]\n",
    "print(num_list)"
   ]
  },
  {
   "cell_type": "code",
   "execution_count": 34,
   "metadata": {},
   "outputs": [
    {
     "output_type": "stream",
     "name": "stdout",
     "text": [
      "even numbers are : [2, 4, 6]\nodd numbers are : [1, 3, 5]\n"
     ]
    }
   ],
   "source": [
    "# even and odd numbers using list Comp \n",
    "\n",
    "numbers = [1, 2, 3, 4, 5, 6]\n",
    "\n",
    "evens = [num for num in numbers if not num % 2 ]\n",
    "print('even numbers are :',evens)\n",
    "odds = [num for num in numbers if num % 2 ]\n",
    "print('odd numbers are :',odds)"
   ]
  },
  {
   "cell_type": "code",
   "execution_count": 35,
   "metadata": {},
   "outputs": [
    {
     "output_type": "stream",
     "name": "stdout",
     "text": [
      "even num are : [2, 4, 6] \nodd num are : [1, 3, 5]\n"
     ]
    }
   ],
   "source": [
    "numbers = [1, 2, 3, 4, 5, 6]\n",
    "even=[]\n",
    "odd=[]\n",
    "x=[even.append(num) if not num % 2 else odd.append(num) for num in numbers] \n",
    "print(f'even num are : {even} \\nodd num are : {odd}')\n"
   ]
  },
  {
   "source": [
    "### nested list "
   ],
   "cell_type": "markdown",
   "metadata": {}
  },
  {
   "cell_type": "code",
   "execution_count": 36,
   "metadata": {},
   "outputs": [
    {
     "output_type": "stream",
     "name": "stdout",
     "text": [
      "1\n2\n3\n4\n5\n6\n7\n8\n9\n"
     ]
    }
   ],
   "source": [
    "nested_list = [[1, 2, 3], [4, 5, 6], [7, 8, 9]]\n",
    "\n",
    "for a in nested_list:\n",
    "    for num in a:\n",
    "        print(num)"
   ]
  },
  {
   "cell_type": "code",
   "execution_count": 4,
   "metadata": {},
   "outputs": [
    {
     "output_type": "error",
     "ename": "NameError",
     "evalue": "name 'a' is not defined",
     "traceback": [
      "\u001b[1;31m---------------------------------------------------------------------------\u001b[0m",
      "\u001b[1;31mNameError\u001b[0m                                 Traceback (most recent call last)",
      "\u001b[1;32m<ipython-input-4-88eb36243f2b>\u001b[0m in \u001b[0;36m<module>\u001b[1;34m\u001b[0m\n\u001b[0;32m      1\u001b[0m \u001b[0mnested_list\u001b[0m \u001b[1;33m=\u001b[0m \u001b[1;33m[\u001b[0m\u001b[1;33m[\u001b[0m\u001b[1;36m1\u001b[0m\u001b[1;33m,\u001b[0m \u001b[1;36m2\u001b[0m\u001b[1;33m,\u001b[0m \u001b[1;36m3\u001b[0m\u001b[1;33m]\u001b[0m\u001b[1;33m,\u001b[0m \u001b[1;33m[\u001b[0m\u001b[1;36m4\u001b[0m\u001b[1;33m,\u001b[0m \u001b[1;36m5\u001b[0m\u001b[1;33m,\u001b[0m \u001b[1;36m6\u001b[0m\u001b[1;33m]\u001b[0m\u001b[1;33m,\u001b[0m \u001b[1;33m[\u001b[0m\u001b[1;36m7\u001b[0m\u001b[1;33m,\u001b[0m \u001b[1;36m8\u001b[0m\u001b[1;33m,\u001b[0m \u001b[1;36m9\u001b[0m\u001b[1;33m]\u001b[0m\u001b[1;33m]\u001b[0m\u001b[1;33m\u001b[0m\u001b[1;33m\u001b[0m\u001b[0m\n\u001b[1;32m----> 2\u001b[1;33m \u001b[0mx\u001b[0m\u001b[1;33m=\u001b[0m\u001b[1;33m[\u001b[0m\u001b[0mprint\u001b[0m\u001b[1;33m(\u001b[0m\u001b[0mval\u001b[0m\u001b[1;33m)\u001b[0m \u001b[1;32mfor\u001b[0m \u001b[0mval\u001b[0m \u001b[1;32min\u001b[0m \u001b[0ma\u001b[0m \u001b[1;32mfor\u001b[0m \u001b[0ma\u001b[0m \u001b[1;32min\u001b[0m \u001b[0mnested_list\u001b[0m\u001b[1;33m]\u001b[0m\u001b[1;33m\u001b[0m\u001b[1;33m\u001b[0m\u001b[0m\n\u001b[0m",
      "\u001b[1;31mNameError\u001b[0m: name 'a' is not defined"
     ]
    }
   ],
   "source": [
    "nested_list = [[1, 2, 3], [4, 5, 6], [7, 8, 9]]\n",
    "x=[print(val) for val in a for a in nested_list]"
   ]
  },
  {
   "cell_type": "code",
   "execution_count": null,
   "metadata": {},
   "outputs": [],
   "source": [
    "[[j  for j in range(1,i) ]for i in range(2,5) ]"
   ]
  },
  {
   "cell_type": "code",
   "execution_count": 5,
   "metadata": {},
   "outputs": [
    {
     "output_type": "stream",
     "name": "stdout",
     "text": [
      "[['*', '*', '*'], ['*', '*', '*'], ['*', '*', '*']]\n[['X', 'O', 'X'], ['X', 'O', 'X'], ['X', 'O', 'X']]\n"
     ]
    }
   ],
   "source": [
    "board=[['*' for num in range(1,4)] for _ in range(1,4)]\n",
    "print(board)\n",
    "\n",
    "board2=[[\"X\" if num % 2 != 0 else \"O\" for num in range(1,4)] for _ in range(1,4)]\n",
    "print(board2)"
   ]
  },
  {
   "cell_type": "code",
   "execution_count": 6,
   "metadata": {},
   "outputs": [
    {
     "output_type": "stream",
     "name": "stdout",
     "text": [
      "['fruit', 'shape']\n"
     ]
    }
   ],
   "source": [
    "a=[['fruit',10],['color',20],['shape',15]]\n",
    "b=[ele for (ele,num) in a if num<20]\n",
    "b=[i[0] for i in a if i[1]<20]\n",
    "print(b)"
   ]
  },
  {
   "cell_type": "code",
   "execution_count": 7,
   "metadata": {},
   "outputs": [
    {
     "output_type": "stream",
     "name": "stdout",
     "text": [
      "1 a\n1 b\n2 a\n2 b\n"
     ]
    }
   ],
   "source": [
    "A=[1,2]\n",
    "B=['a','b']\n",
    "for a in A:\n",
    "    for b in B:\n",
    "        print(a,b)"
   ]
  },
  {
   "cell_type": "code",
   "execution_count": 16,
   "metadata": {},
   "outputs": [
    {
     "output_type": "execute_result",
     "data": {
      "text/plain": [
       "[[(1, 'a'), (2, 'a')], [(1, 'b'), (2, 'b')]]"
      ]
     },
     "metadata": {},
     "execution_count": 16
    }
   ],
   "source": [
    "# cartesian product of A and B (a,b) where a is in A and b is in B\n",
    "A=[1,2]\n",
    "B=['a','b']\n",
    "AXB=[[(a,b) for a in A] for b in B]\n",
    "AXB"
   ]
  },
  {
   "cell_type": "code",
   "execution_count": 22,
   "metadata": {},
   "outputs": [
    {
     "output_type": "execute_result",
     "data": {
      "text/plain": [
       "[[1, 2, 3, 4], [2, 4, 6, 8], [3, 6, 9, 12], [4, 8, 12, 16]]"
      ]
     },
     "metadata": {},
     "execution_count": 22
    }
   ],
   "source": [
    "#function that takes a number n as an input and creates a list of n lists such that ith list contains first four multiples of i\n",
    "number=4\n",
    "def multiples(number):\n",
    "    return [[i*k for i in range(1,number+1)] for k in range(1,5) ] \n",
    "    \n",
    "multiples(number)    "
   ]
  },
  {
   "cell_type": "code",
   "execution_count": null,
   "metadata": {},
   "outputs": [],
   "source": [
    "# ques. make a list  of first 5 numbers usning  list comp\n",
    "# output should be [1,2,3,4,5]"
   ]
  },
  {
   "cell_type": "code",
   "execution_count": 26,
   "metadata": {},
   "outputs": [
    {
     "output_type": "execute_result",
     "data": {
      "text/plain": [
       "[1, 2, 3, 4, 5]"
      ]
     },
     "metadata": {},
     "execution_count": 26
    }
   ],
   "source": [
    " [a+1 for a in range(5)]"
   ]
  },
  {
   "cell_type": "code",
   "execution_count": 5,
   "metadata": {},
   "outputs": [
    {
     "output_type": "execute_result",
     "data": {
      "text/plain": [
       "[(1, 2), ('a', 'b')]"
      ]
     },
     "metadata": {},
     "execution_count": 5
    }
   ],
   "source": [
    "A=[1,2]\n",
    "B=['a','b']\n",
    "AXB=[(a,b) for a,b in (A,B)]\n",
    "AXB"
   ]
  },
  {
   "cell_type": "code",
   "execution_count": null,
   "metadata": {},
   "outputs": [],
   "source": []
  }
 ]
}